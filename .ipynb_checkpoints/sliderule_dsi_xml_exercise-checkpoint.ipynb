{
 "cells": [
  {
   "cell_type": "markdown",
   "metadata": {},
   "source": [
    "# XML example and exercise\n",
    "****\n",
    "+ study examples of accessing nodes in XML tree structure  \n",
    "+ work on exercise to be completed and submitted\n",
    "****\n",
    "+ reference: https://docs.python.org/2.7/library/xml.etree.elementtree.html\n",
    "+ data source: http://www.dbis.informatik.uni-goettingen.de/Mondial\n",
    "****"
   ]
  },
  {
   "cell_type": "code",
   "execution_count": 1,
   "metadata": {
    "collapsed": true
   },
   "outputs": [],
   "source": [
    "from xml.etree import ElementTree as ET"
   ]
  },
  {
   "cell_type": "markdown",
   "metadata": {},
   "source": [
    "## XML example\n",
    "\n",
    "+ for details about tree traversal and iterators, see https://docs.python.org/2.7/library/xml.etree.elementtree.html"
   ]
  },
  {
   "cell_type": "code",
   "execution_count": 2,
   "metadata": {
    "collapsed": true
   },
   "outputs": [],
   "source": [
    "document_tree = ET.parse( './data/mondial_database_less.xml' )"
   ]
  },
  {
   "cell_type": "code",
   "execution_count": 3,
   "metadata": {
    "collapsed": false
   },
   "outputs": [
    {
     "name": "stdout",
     "output_type": "stream",
     "text": [
      "Albania\n",
      "Greece\n",
      "Macedonia\n",
      "Serbia\n",
      "Montenegro\n",
      "Kosovo\n",
      "Andorra\n"
     ]
    }
   ],
   "source": [
    "# print names of all countries\n",
    "for child in document_tree.getroot():\n",
    "    print(child.find('name').text)"
   ]
  },
  {
   "cell_type": "code",
   "execution_count": 4,
   "metadata": {
    "collapsed": false
   },
   "outputs": [
    {
     "name": "stdout",
     "output_type": "stream",
     "text": [
      "* Albania:\n",
      "Tirana, Shkodër, Durrës, Vlorë, Elbasan, Korçë\n",
      "* Greece:\n",
      "Komotini, Kavala, Athina, Peiraias, Peristeri, Acharnes, Patra, Kozani, Kerkyra, Ioannina, Thessaloniki, Iraklio, Chania, Ermoupoli, Rhodes, Tripoli, Lamia, Chalkida, Larissa, Volos, Mytilini, Karyes\n",
      "* Macedonia:\n",
      "Skopje, Kumanovo\n",
      "* Serbia:\n",
      "Beograd, Novi Sad, Niš\n",
      "* Montenegro:\n",
      "Podgorica\n",
      "* Kosovo:\n",
      "Prishtine\n",
      "* Andorra:\n",
      "Andorra la Vella\n"
     ]
    }
   ],
   "source": [
    "# print names of all countries and their cities\n",
    "for element in document_tree.iterfind('country'):\n",
    "    print('* ' + element.find('name').text + ':')\n",
    "    capitals_string = ''\n",
    "    for subelement in element.getiterator('city'):\n",
    "        capitals_string += subelement.find('name').text + ', '\n",
    "    print(capitals_string[:-2])"
   ]
  },
  {
   "cell_type": "markdown",
   "metadata": {},
   "source": [
    "****\n",
    "## XML exercise\n",
    "\n",
    "Using data in 'data/mondial_database.xml', the examples above, and refering to https://docs.python.org/2.7/library/xml.etree.elementtree.html, find\n",
    "\n",
    "1. 10 countries with the lowest infant mortality rates\n",
    "2. 10 cities with the largest population\n",
    "3. 10 ethnic groups with the largest overall populations (sum of best/latest estimates over all countries)\n",
    "4. name and country of a) longest river, b) largest lake and c) airport at highest elevation"
   ]
  },
  {
   "cell_type": "code",
   "execution_count": 5,
   "metadata": {
    "collapsed": true
   },
   "outputs": [],
   "source": [
    "import pandas as pd\n",
    "import numpy as np\n",
    "import operator \n",
    "document = ET.parse( './data/mondial_database.xml' )"
   ]
  },
  {
   "cell_type": "code",
   "execution_count": 6,
   "metadata": {
    "collapsed": false
   },
   "outputs": [
    {
     "data": {
      "text/plain": [
       "{}"
      ]
     },
     "execution_count": 6,
     "metadata": {},
     "output_type": "execute_result"
    }
   ],
   "source": [
    "root = document.getroot()\n",
    "root.tag\n",
    "root.attrib"
   ]
  },
  {
   "cell_type": "code",
   "execution_count": 7,
   "metadata": {
    "collapsed": false
   },
   "outputs": [
    {
     "name": "stdout",
     "output_type": "stream",
     "text": [
      "          country  infant_mortality\n",
      "0         Albania             13.19\n",
      "1          Greece              4.78\n",
      "2       Macedonia              7.90\n",
      "3          Serbia              6.16\n",
      "4         Andorra              3.69\n",
      "5          France              3.31\n",
      "6           Spain              3.33\n",
      "7         Austria              4.16\n",
      "8  Czech Republic              2.63\n",
      "9         Germany              3.46\n"
     ]
    }
   ],
   "source": [
    "cols = ['country', 'infant_mortality']\n",
    "mat = pd.DataFrame(columns = cols)\n",
    "for country in root.iterfind('country'):\n",
    "    if country.find('infant_mortality') is None:\n",
    "         pass\n",
    "    else:\n",
    "        name = country.find('name').text\n",
    "        infmor = float(country.find('infant_mortality').text)\n",
    "        mat = mat.append({'country':name, 'infant_mortality':infmor}, ignore_index=True)\n",
    "        \n",
    "\n",
    "#ordered_mat = sorted(mat.items(), key=operator.itemgetter(1))\n",
    "\n",
    "print(mat.head(10))"
   ]
  },
  {
   "cell_type": "code",
   "execution_count": 8,
   "metadata": {
    "collapsed": false
   },
   "outputs": [
    {
     "name": "stdout",
     "output_type": "stream",
     "text": [
      "            country  infant_mortality\n",
      "36           Monaco              1.81\n",
      "90            Japan              2.13\n",
      "109         Bermuda              2.48\n",
      "34           Norway              2.48\n",
      "98        Singapore              2.53\n",
      "35           Sweden              2.60\n",
      "8    Czech Republic              2.63\n",
      "72        Hong Kong              2.73\n",
      "73            Macao              3.13\n",
      "39          Iceland              3.15\n"
     ]
    }
   ],
   "source": [
    "ordered_mat = mat.sort_values('infant_mortality')\n",
    "print(ordered_mat.head(10))"
   ]
  },
  {
   "cell_type": "code",
   "execution_count": 85,
   "metadata": {
    "collapsed": false
   },
   "outputs": [
    {
     "name": "stdout",
     "output_type": "stream",
     "text": [
      "           City  Population    Year\n",
      "1251   Shanghai  22315474.0  2010.0\n",
      "707    Istanbul  13710512.0  2012.0\n",
      "1421     Mumbai  12442373.0  2011.0\n",
      "443      Moskva  11979529.0  2013.0\n",
      "1250    Beijing  11716620.0  2010.0\n",
      "2594  São Paulo  11152344.0  2010.0\n",
      "1252    Tianjin  11090314.0  2010.0\n",
      "974   Guangzhou  11071424.0  2010.0\n",
      "1467      Delhi  11034555.0  2011.0\n",
      "977    Shenzhen  10358381.0  2010.0\n"
     ]
    }
   ],
   "source": [
    "data_cities = pd.DataFrame(columns=['City','Population','Year'])\n",
    "\n",
    "for country in root.iterfind('country'):\n",
    "    for city in country.getiterator('city'):\n",
    "        if city.find(\"population[last()]\") is None:\n",
    "            pass\n",
    "        else:\n",
    "            cname = city.find('name').text\n",
    "            stadt = city.find('./population[last()]')\n",
    "            cpop = float(city.find(\"population[last()]\").text)\n",
    "            year = int(stadt.get('year'))\n",
    "            data_cities = data_cities.append({'City':cname, 'Population':cpop, 'Year':year}, ignore_index=True)\n",
    "\n",
    "data_cities_sted = data_cities.sort_values('Population', ascending=False)\n",
    "print(data_cities_sted.head(10))"
   ]
  },
  {
   "cell_type": "code",
   "execution_count": 115,
   "metadata": {
    "collapsed": false
   },
   "outputs": [
    {
     "name": "stdout",
     "output_type": "stream",
     "text": [
      "           Country Ethnic Group    Population\n",
      "44           China  Han Chinese  1.245059e+09\n",
      "55           India    Dravidian  3.027137e+08\n",
      "97   United States     European  2.549581e+08\n",
      "165        Nigeria      African  1.626516e+08\n",
      "53      Bangladesh      Bengali  1.467769e+08\n",
      "81           Japan     Japanese  1.265342e+08\n",
      "21          Russia      Russian  1.146462e+08\n",
      "73       Indonesia     Javanese  1.134560e+08\n",
      "143         Brazil     European  1.088867e+08\n",
      "62         Vietnam    Viet/Kinh  7.607838e+07\n"
     ]
    }
   ],
   "source": [
    "data_ethpop = pd.DataFrame(columns=['Country','Ethnic Group','Population'])\n",
    "\n",
    "for country in root.iterfind('country'):\n",
    "    if country.find('./ethnicgroup[1][@percentage]') is None:\n",
    "        pass\n",
    "    else:\n",
    "        cname = country.find('name').text\n",
    "        ethname = country.find('./ethnicgroup[1]').text\n",
    "        ethnic = country.find('./ethnicgroup[1]')\n",
    "        totpop = float(country.find('population[last()]').text)\n",
    "        ethper = float(ethnic.get('percentage'))\n",
    "        ethpop = (totpop * ethper)/100\n",
    "        data_ethpop = data_ethpop.append({'Country':cname,'Ethnic Group':ethname, 'Population':ethpop}, ignore_index=True)\n",
    "\n",
    "data_ethpop_sted = data_ethpop.sort_values('Population', ascending=False)\n",
    "print(data_ethpop_sted.head(10))"
   ]
  },
  {
   "cell_type": "code",
   "execution_count": 194,
   "metadata": {
    "collapsed": false
   },
   "outputs": [
    {
     "name": "stdout",
     "output_type": "stream",
     "text": [
      "<class 'xml.etree.ElementTree.Element'>\n",
      "  Country            RiverName Dist\n",
      "0      IS              Thjorsa   []\n",
      "1      IS  Joekulsa a Fjoellum   []\n",
      "2       N               Glomma   []\n",
      "3       N                Lagen   []\n",
      "4       S            Goetaaelv   []\n",
      "5       S              Umeaelv   []\n",
      "6       S              Dalaelv   []\n",
      "7       S       Vaesterdalaelv   []\n",
      "8       S        Oesterdalaelv   []\n",
      "9      SF            Ounasjoki   []\n",
      "  Country  RiverName Dist\n",
      "0      NS   Klaraelv   []\n",
      "1   SFR N  Paatsjoki   []\n",
      "2     SFR     Vuoksi   []\n",
      "3     FNL       Maas   []\n",
      "4      EF    Garonne   []\n",
      "5     CHF      Rhone   []\n",
      "6      EP       Tajo   []\n",
      "7      EP      Douro   []\n",
      "8    EP E   Guadiana   []\n",
      "9     CHI     Ticino   []\n"
     ]
    }
   ],
   "source": [
    "data_riv = pd.DataFrame(columns=['Country','RiverName','Dist'])\n",
    "data_riv_multi = pd.DataFrame(columns=['Country','RiverName','Dist'])\n",
    "\n",
    "for river in root.iterfind('river'):\n",
    "    fcountry = river.find('source')\n",
    "    fcname = fcountry.get('country')\n",
    "    ecountry = river.find('estuary')\n",
    "    ecname = ecountry.get('country')\n",
    "    if fcountry.get('country') == ecountry.get('country'):\n",
    "        #This river is in one country\n",
    "        rivname = river.find('name').text\n",
    "        length = river.find('length')\n",
    "        data_riv = data_riv.append({'Country':fcname,'RiverName':rivname, 'Dist':length}, ignore_index=True)\n",
    "    else:\n",
    "        #This river is in multiple countries\n",
    "        rivname = river.find('name').text\n",
    "        tots = fcname + ecname\n",
    "        length = river.find('length')\n",
    "        data_riv_multi = data_riv_multi.append({'Country':tots,'RiverName':rivname, 'Dist':length}, ignore_index=True)\n",
    "print(type(length))\n",
    "print(data_riv.head(10))\n",
    "print(data_riv_multi.head(10))\n",
    "\n",
    "        "
   ]
  },
  {
   "cell_type": "code",
   "execution_count": 180,
   "metadata": {
    "collapsed": false
   },
   "outputs": [
    {
     "name": "stdout",
     "output_type": "stream",
     "text": [
      "  Country        Lake    Size\n",
      "0      SF       Inari  1040.0\n",
      "1      SF  Oulujaervi   928.0\n",
      "2      SF   Kallavesi   472.0\n",
      "3      SF      Saimaa  4370.0\n",
      "4      SF  Paeijaenne  1118.0\n",
      "5       N  Mjoesa-See   368.0\n",
      "6       S    Storuman   173.0\n",
      "7       S      Siljan   290.0\n",
      "8       S    Maelaren  1140.0\n",
      "9       S     Vaenern  5648.0\n"
     ]
    }
   ],
   "source": [
    "data_lake = pd.DataFrame(columns=['Country','Lake','Size'])\n",
    "\n",
    "for lake in root.iterfind('lake'):\n",
    "    if lake.find('./area') is None:\n",
    "        pass\n",
    "    else:\n",
    "        lakename = lake.find('name').text\n",
    "        countrycode = lake.get('country')\n",
    "        lakearea = float(lake.find('area').text)\n",
    "        #print(lakename, countrycode, lakearea)\n",
    "        data_lake = data_lake.append({'Country':countrycode,'Lake':lakename,'Size':lakearea}, ignore_index=True)\n",
    "\n",
    "print(data_lake.head(10))"
   ]
  },
  {
   "cell_type": "code",
   "execution_count": 179,
   "metadata": {
    "collapsed": false
   },
   "outputs": [
    {
     "name": "stdout",
     "output_type": "stream",
     "text": [
      "<class 'str'>\n",
      "  Country               Airport Elevation\n",
      "0     AFG                 Herat       977\n",
      "1     AFG            Kabul Intl      1792\n",
      "2      AL          Tirana Rinas        38\n",
      "3      DZ  Cheikh Larbi Tebessi       811\n",
      "4      DZ         Batna Airport       822\n",
      "5      DZ               Soummam         6\n",
      "6      DZ           Tamanrasset      1377\n",
      "7      DZ                Biskra        88\n",
      "8      DZ  Mohamed Boudiaf Intl       691\n",
      "9      DZ     Ain Arnat Airport      1024\n"
     ]
    }
   ],
   "source": [
    "data_airport = pd.DataFrame(columns=['Country','Airport','Elevation'])\n",
    "\n",
    "for airport in root.iterfind('airport'):\n",
    "    if airport.find('./elevation') is None:\n",
    "        pass\n",
    "    else:\n",
    "        airname = airport.findtext('name')\n",
    "        elev = airport.find('elevation').text\n",
    "        countname = airport.get('country')\n",
    "        data_airport = data_airport.append({'Country':countname,'Airport':airname,'Elevation':elev}, ignore_index=True)\n",
    "print(type(elev))\n",
    "print(data_airport.head(10))"
   ]
  },
  {
   "cell_type": "code",
   "execution_count": null,
   "metadata": {
    "collapsed": true
   },
   "outputs": [],
   "source": []
  }
 ],
 "metadata": {
  "kernelspec": {
   "display_name": "Python 3",
   "language": "python",
   "name": "python3"
  },
  "language_info": {
   "codemirror_mode": {
    "name": "ipython",
    "version": 3
   },
   "file_extension": ".py",
   "mimetype": "text/x-python",
   "name": "python",
   "nbconvert_exporter": "python",
   "pygments_lexer": "ipython3",
   "version": "3.6.0"
  },
  "varInspector": {
   "cols": {
    "lenName": 16,
    "lenType": 16,
    "lenVar": 40
   },
   "kernels_config": {
    "python": {
     "delete_cmd_postfix": "",
     "delete_cmd_prefix": "del ",
     "library": "var_list.py",
     "varRefreshCmd": "print(var_dic_list())"
    },
    "r": {
     "delete_cmd_postfix": ") ",
     "delete_cmd_prefix": "rm(",
     "library": "var_list.r",
     "varRefreshCmd": "cat(var_dic_list()) "
    }
   },
   "types_to_exclude": [
    "module",
    "function",
    "builtin_function_or_method",
    "instance",
    "_Feature"
   ],
   "window_display": false
  }
 },
 "nbformat": 4,
 "nbformat_minor": 0
}
